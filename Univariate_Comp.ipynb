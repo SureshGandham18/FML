{
  "nbformat": 4,
  "nbformat_minor": 0,
  "metadata": {
    "colab": {
      "name": "Univariate_Comp.ipynb",
      "provenance": [],
      "collapsed_sections": [],
      "authorship_tag": "ABX9TyN3RVDaatbzbJRj4sOgjeZI",
      "include_colab_link": true
    },
    "kernelspec": {
      "name": "python3",
      "display_name": "Python 3"
    },
    "language_info": {
      "name": "python"
    }
  },
  "cells": [
    {
      "cell_type": "markdown",
      "metadata": {
        "id": "view-in-github",
        "colab_type": "text"
      },
      "source": [
        "<a href=\"https://colab.research.google.com/github/SureshGandham18/FML/blob/main/Univariate_Comp.ipynb\" target=\"_parent\"><img src=\"https://colab.research.google.com/assets/colab-badge.svg\" alt=\"Open In Colab\"/></a>"
      ]
    },
    {
      "cell_type": "markdown",
      "source": [
        "# ***UNIVARIATE LINEAR REGRESSION ON COMPANY DATASET***"
      ],
      "metadata": {
        "id": "Va_ElatiKMgi"
      }
    },
    {
      "cell_type": "markdown",
      "source": [
        "Here we took the Company Dataset having the information about the amount spent on different types of advertisements and its subsequent sales.\n",
        "\n",
        "\n",
        "\n",
        "\n",
        "Let's import the required libraries:"
      ],
      "metadata": {
        "id": "5Ul4OZl2LZax"
      }
    },
    {
      "cell_type": "code",
      "execution_count": 1,
      "metadata": {
        "id": "nBHCr0w3yEMU"
      },
      "outputs": [],
      "source": [
        "import pandas as pd\n",
        "import numpy as np\n",
        "import matplotlib.pyplot as plt\n",
        "from sklearn import linear_model"
      ]
    },
    {
      "cell_type": "markdown",
      "source": [
        "And now , load the dataset into pandas dataframe "
      ],
      "metadata": {
        "id": "GBibiJLAPvlI"
      }
    },
    {
      "cell_type": "code",
      "source": [
        "data = pd.read_csv('Company_data.csv')\n",
        "data.head()"
      ],
      "metadata": {
        "colab": {
          "base_uri": "https://localhost:8080/",
          "height": 206
        },
        "id": "kSaMVCWuyi7Z",
        "outputId": "9b675ee5-ad03-4b4d-fe9b-90164cb7fac9"
      },
      "execution_count": 3,
      "outputs": [
        {
          "output_type": "execute_result",
          "data": {
            "text/plain": [
              "      TV  Radio  Newspaper  Sales\n",
              "0  230.1   37.8       69.2   22.1\n",
              "1   44.5   39.3       45.1   10.4\n",
              "2   17.2   45.9       69.3   12.0\n",
              "3  151.5   41.3       58.5   16.5\n",
              "4  180.8   10.8       58.4   17.9"
            ],
            "text/html": [
              "\n",
              "  <div id=\"df-e2dddebf-7fed-4a1e-b5d4-f5c5a0838518\">\n",
              "    <div class=\"colab-df-container\">\n",
              "      <div>\n",
              "<style scoped>\n",
              "    .dataframe tbody tr th:only-of-type {\n",
              "        vertical-align: middle;\n",
              "    }\n",
              "\n",
              "    .dataframe tbody tr th {\n",
              "        vertical-align: top;\n",
              "    }\n",
              "\n",
              "    .dataframe thead th {\n",
              "        text-align: right;\n",
              "    }\n",
              "</style>\n",
              "<table border=\"1\" class=\"dataframe\">\n",
              "  <thead>\n",
              "    <tr style=\"text-align: right;\">\n",
              "      <th></th>\n",
              "      <th>TV</th>\n",
              "      <th>Radio</th>\n",
              "      <th>Newspaper</th>\n",
              "      <th>Sales</th>\n",
              "    </tr>\n",
              "  </thead>\n",
              "  <tbody>\n",
              "    <tr>\n",
              "      <th>0</th>\n",
              "      <td>230.1</td>\n",
              "      <td>37.8</td>\n",
              "      <td>69.2</td>\n",
              "      <td>22.1</td>\n",
              "    </tr>\n",
              "    <tr>\n",
              "      <th>1</th>\n",
              "      <td>44.5</td>\n",
              "      <td>39.3</td>\n",
              "      <td>45.1</td>\n",
              "      <td>10.4</td>\n",
              "    </tr>\n",
              "    <tr>\n",
              "      <th>2</th>\n",
              "      <td>17.2</td>\n",
              "      <td>45.9</td>\n",
              "      <td>69.3</td>\n",
              "      <td>12.0</td>\n",
              "    </tr>\n",
              "    <tr>\n",
              "      <th>3</th>\n",
              "      <td>151.5</td>\n",
              "      <td>41.3</td>\n",
              "      <td>58.5</td>\n",
              "      <td>16.5</td>\n",
              "    </tr>\n",
              "    <tr>\n",
              "      <th>4</th>\n",
              "      <td>180.8</td>\n",
              "      <td>10.8</td>\n",
              "      <td>58.4</td>\n",
              "      <td>17.9</td>\n",
              "    </tr>\n",
              "  </tbody>\n",
              "</table>\n",
              "</div>\n",
              "      <button class=\"colab-df-convert\" onclick=\"convertToInteractive('df-e2dddebf-7fed-4a1e-b5d4-f5c5a0838518')\"\n",
              "              title=\"Convert this dataframe to an interactive table.\"\n",
              "              style=\"display:none;\">\n",
              "        \n",
              "  <svg xmlns=\"http://www.w3.org/2000/svg\" height=\"24px\"viewBox=\"0 0 24 24\"\n",
              "       width=\"24px\">\n",
              "    <path d=\"M0 0h24v24H0V0z\" fill=\"none\"/>\n",
              "    <path d=\"M18.56 5.44l.94 2.06.94-2.06 2.06-.94-2.06-.94-.94-2.06-.94 2.06-2.06.94zm-11 1L8.5 8.5l.94-2.06 2.06-.94-2.06-.94L8.5 2.5l-.94 2.06-2.06.94zm10 10l.94 2.06.94-2.06 2.06-.94-2.06-.94-.94-2.06-.94 2.06-2.06.94z\"/><path d=\"M17.41 7.96l-1.37-1.37c-.4-.4-.92-.59-1.43-.59-.52 0-1.04.2-1.43.59L10.3 9.45l-7.72 7.72c-.78.78-.78 2.05 0 2.83L4 21.41c.39.39.9.59 1.41.59.51 0 1.02-.2 1.41-.59l7.78-7.78 2.81-2.81c.8-.78.8-2.07 0-2.86zM5.41 20L4 18.59l7.72-7.72 1.47 1.35L5.41 20z\"/>\n",
              "  </svg>\n",
              "      </button>\n",
              "      \n",
              "  <style>\n",
              "    .colab-df-container {\n",
              "      display:flex;\n",
              "      flex-wrap:wrap;\n",
              "      gap: 12px;\n",
              "    }\n",
              "\n",
              "    .colab-df-convert {\n",
              "      background-color: #E8F0FE;\n",
              "      border: none;\n",
              "      border-radius: 50%;\n",
              "      cursor: pointer;\n",
              "      display: none;\n",
              "      fill: #1967D2;\n",
              "      height: 32px;\n",
              "      padding: 0 0 0 0;\n",
              "      width: 32px;\n",
              "    }\n",
              "\n",
              "    .colab-df-convert:hover {\n",
              "      background-color: #E2EBFA;\n",
              "      box-shadow: 0px 1px 2px rgba(60, 64, 67, 0.3), 0px 1px 3px 1px rgba(60, 64, 67, 0.15);\n",
              "      fill: #174EA6;\n",
              "    }\n",
              "\n",
              "    [theme=dark] .colab-df-convert {\n",
              "      background-color: #3B4455;\n",
              "      fill: #D2E3FC;\n",
              "    }\n",
              "\n",
              "    [theme=dark] .colab-df-convert:hover {\n",
              "      background-color: #434B5C;\n",
              "      box-shadow: 0px 1px 3px 1px rgba(0, 0, 0, 0.15);\n",
              "      filter: drop-shadow(0px 1px 2px rgba(0, 0, 0, 0.3));\n",
              "      fill: #FFFFFF;\n",
              "    }\n",
              "  </style>\n",
              "\n",
              "      <script>\n",
              "        const buttonEl =\n",
              "          document.querySelector('#df-e2dddebf-7fed-4a1e-b5d4-f5c5a0838518 button.colab-df-convert');\n",
              "        buttonEl.style.display =\n",
              "          google.colab.kernel.accessAllowed ? 'block' : 'none';\n",
              "\n",
              "        async function convertToInteractive(key) {\n",
              "          const element = document.querySelector('#df-e2dddebf-7fed-4a1e-b5d4-f5c5a0838518');\n",
              "          const dataTable =\n",
              "            await google.colab.kernel.invokeFunction('convertToInteractive',\n",
              "                                                     [key], {});\n",
              "          if (!dataTable) return;\n",
              "\n",
              "          const docLinkHtml = 'Like what you see? Visit the ' +\n",
              "            '<a target=\"_blank\" href=https://colab.research.google.com/notebooks/data_table.ipynb>data table notebook</a>'\n",
              "            + ' to learn more about interactive tables.';\n",
              "          element.innerHTML = '';\n",
              "          dataTable['output_type'] = 'display_data';\n",
              "          await google.colab.output.renderOutput(dataTable, element);\n",
              "          const docLink = document.createElement('div');\n",
              "          docLink.innerHTML = docLinkHtml;\n",
              "          element.appendChild(docLink);\n",
              "        }\n",
              "      </script>\n",
              "    </div>\n",
              "  </div>\n",
              "  "
            ]
          },
          "metadata": {},
          "execution_count": 3
        }
      ]
    },
    {
      "cell_type": "markdown",
      "source": [
        "###### Here with the help of head() method , we came to know the first 5 rows of the Company dataset."
      ],
      "metadata": {
        "id": "QgPD9sd1jtpz"
      }
    },
    {
      "cell_type": "markdown",
      "source": [
        "Now using the drop() method remove the labelled data from the input data"
      ],
      "metadata": {
        "id": "RB5FMtapoRlk"
      }
    },
    {
      "cell_type": "code",
      "source": [
        "X = data.drop('Sales',axis=1).values\n",
        "y = data['Sales'].values"
      ],
      "metadata": {
        "id": "09m0NL32zgpf"
      },
      "execution_count": 29,
      "outputs": []
    },
    {
      "cell_type": "markdown",
      "source": [
        "\n",
        "\n",
        "###### From the above we observed that, X contains the multiple input data and y contains the labelled data.\n",
        "\n",
        "\n",
        "\n"
      ],
      "metadata": {
        "id": "3RJq_qtGo4nt"
      }
    },
    {
      "cell_type": "markdown",
      "source": [
        "As we are doing Univariate LinearRegression , we have to use only one input data. So let us consider the TV data as our input data."
      ],
      "metadata": {
        "id": "yak3DFJZqjbb"
      }
    },
    {
      "cell_type": "code",
      "source": [
        "X_TV = X[:,0]\n",
        "X_TV.shape,y.shape"
      ],
      "metadata": {
        "colab": {
          "base_uri": "https://localhost:8080/"
        },
        "id": "CBNebMzBlWn8",
        "outputId": "ed40e28e-9328-4e26-e12c-db7d5f2fa37f"
      },
      "execution_count": 41,
      "outputs": [
        {
          "output_type": "execute_result",
          "data": {
            "text/plain": [
              "((200,), (200, 1))"
            ]
          },
          "metadata": {},
          "execution_count": 41
        }
      ]
    },
    {
      "cell_type": "code",
      "source": [
        "X_TV = X_TV.reshape(-1,1)\n",
        "y = y.reshape(-1,1)\n",
        "X_TV.shape,y.shape"
      ],
      "metadata": {
        "colab": {
          "base_uri": "https://localhost:8080/"
        },
        "id": "xZdm3MjVzxvv",
        "outputId": "7aad4740-d719-4424-c476-0362fbf79f06"
      },
      "execution_count": 31,
      "outputs": [
        {
          "output_type": "execute_result",
          "data": {
            "text/plain": [
              "((200, 1), (200, 1))"
            ]
          },
          "metadata": {},
          "execution_count": 31
        }
      ]
    },
    {
      "cell_type": "markdown",
      "source": [
        "Here we came to know the shapes of both input data and labelled data with help of shape method."
      ],
      "metadata": {
        "id": "d-2C4p_EtRWx"
      }
    },
    {
      "cell_type": "markdown",
      "source": [
        "To split the training data and testing data , we have to import the train_test_split from the sklearn module."
      ],
      "metadata": {
        "id": "55uFzdBDti7T"
      }
    },
    {
      "cell_type": "code",
      "source": [
        "from sklearn.model_selection import train_test_split\n",
        "X_train, X_test, y_train, y_test = train_test_split(X_TV, y, test_size=0.25, random_state=42)"
      ],
      "metadata": {
        "id": "f3H_bMuZ0Gju"
      },
      "execution_count": 32,
      "outputs": []
    },
    {
      "cell_type": "markdown",
      "source": [
        "Here we divided the entire data into training data and test data , where test data is 25% and training data is 75%."
      ],
      "metadata": {
        "id": "hkqhKZxGu22D"
      }
    },
    {
      "cell_type": "code",
      "source": [
        "X_train.shape,X_test.shape,y_train.shape,y_test.shape"
      ],
      "metadata": {
        "colab": {
          "base_uri": "https://localhost:8080/"
        },
        "id": "kbmVEyOh0q62",
        "outputId": "ce4ba900-4d8e-499d-d563-dfcba189c954"
      },
      "execution_count": 33,
      "outputs": [
        {
          "output_type": "execute_result",
          "data": {
            "text/plain": [
              "((150, 1), (50, 1), (150, 1), (50, 1))"
            ]
          },
          "metadata": {},
          "execution_count": 33
        }
      ]
    },
    {
      "cell_type": "markdown",
      "source": [
        "#### Plot the graph on training data , by taking X_train on x-axis and y_train on y-axis."
      ],
      "metadata": {
        "id": "HM3EBzeUvTym"
      }
    },
    {
      "cell_type": "code",
      "source": [
        "plt.scatter(X_train,y_train,color='orange')\n",
        "plt.xlabel('Amount spent on TV')\n",
        "plt.ylabel('Subsequent Sales')\n",
        "plt.show()"
      ],
      "metadata": {
        "colab": {
          "base_uri": "https://localhost:8080/",
          "height": 279
        },
        "id": "H6jGhNQ73ae9",
        "outputId": "566b939a-e05c-4090-8431-462444b2fb2a"
      },
      "execution_count": 34,
      "outputs": [
        {
          "output_type": "display_data",
          "data": {
            "text/plain": [
              "<Figure size 432x288 with 1 Axes>"
            ],
            "image/png": "[encoded data removed]"
          },
          "metadata": {
            "needs_background": "light"
          }
        }
      ]
    },
    {
      "cell_type": "markdown",
      "source": [
        "Plot the graph on test data , by taking X_test on x-axis and y_test on y-axis."
      ],
      "metadata": {
        "id": "Pxb8RwVTvtAb"
      }
    },
    {
      "cell_type": "code",
      "source": [
        "plt.scatter(X_test,y_test,color='purple')\n",
        "plt.xlabel('Amount spent on TV')\n",
        "plt.ylabel('Subsequent Sales')\n",
        "plt.show()"
      ],
      "metadata": {
        "colab": {
          "base_uri": "https://localhost:8080/",
          "height": 279
        },
        "id": "wOTCIvyQsuU2",
        "outputId": "b3850236-265d-4002-8700-60571d88a39b"
      },
      "execution_count": 43,
      "outputs": [
        {
          "output_type": "display_data",
          "data": {
            "text/plain": [
              "<Figure size 432x288 with 1 Axes>"
            ],
            "image/png": "[encoded data removed]"
          },
          "metadata": {
            "needs_background": "light"
          }
        }
      ]
    },
    {
      "cell_type": "markdown",
      "source": [
        "Now train the model using training data with the help of fit() method."
      ],
      "metadata": {
        "id": "Ryb4U_HZwDV8"
      }
    },
    {
      "cell_type": "code",
      "source": [
        "reg = linear_model.LinearRegression()\n",
        "reg.fit(X_train,y_train)"
      ],
      "metadata": {
        "colab": {
          "base_uri": "https://localhost:8080/"
        },
        "id": "wuBMhi6m07-A",
        "outputId": "8c373e52-acda-48a1-c758-7cfa748cbe60"
      },
      "execution_count": 35,
      "outputs": [
        {
          "output_type": "execute_result",
          "data": {
            "text/plain": [
              "LinearRegression()"
            ]
          },
          "metadata": {},
          "execution_count": 35
        }
      ]
    },
    {
      "cell_type": "markdown",
      "source": [
        "Now predict the labelled data by passing the X_train data into the target function and check the performance of the model by using MAE,MSE,RMSE and R2_Score."
      ],
      "metadata": {
        "id": "zz2U2JXiw9WD"
      }
    },
    {
      "cell_type": "code",
      "source": [
        "#prediction on trained data\n",
        "from sklearn.metrics import mean_absolute_error,r2_score,mean_squared_error\n",
        "y_pred = reg.predict(X_train)\n",
        "print('Performance of the model on the training data')\n",
        "print('MAE = ',mean_absolute_error(y_train,y_pred))\n",
        "print('MSE = ',mean_squared_error(y_train,y_pred))\n",
        "print('RMSE = ',np.sqrt(mean_squared_error(y_train,y_pred)))\n",
        "print('R2 = ',r2_score(y_train,y_pred))"
      ],
      "metadata": {
        "colab": {
          "base_uri": "https://localhost:8080/"
        },
        "id": "Eb0EaeFw1qet",
        "outputId": "5cc1f9fd-4cf0-4c7e-d0e0-2cc2efe912dd"
      },
      "execution_count": 47,
      "outputs": [
        {
          "output_type": "stream",
          "name": "stdout",
          "text": [
            "Performance of the model on the training data\n",
            "MAE =  1.8203818541994503\n",
            "MSE =  5.136151288979386\n",
            "RMSE =  2.2663078539729296\n",
            "R2 =  0.811194552365148\n"
          ]
        }
      ]
    },
    {
      "cell_type": "markdown",
      "source": [
        "Plot the best fit line by taking X_train on x-axis and y_pred on y-axis."
      ],
      "metadata": {
        "id": "-GY4vfeXxboJ"
      }
    },
    {
      "cell_type": "code",
      "source": [
        "plt.scatter(X_train,y_train,color='orange')\n",
        "plt.plot(X_train,y_pred,linewidth=2,color='black')\n",
        "plt.show()"
      ],
      "metadata": {
        "colab": {
          "base_uri": "https://localhost:8080/",
          "height": 265
        },
        "id": "WuEg40Sk30fc",
        "outputId": "94f9f868-de87-4b5e-8ae3-f572b7de4b53"
      },
      "execution_count": 51,
      "outputs": [
        {
          "output_type": "display_data",
          "data": {
            "text/plain": [
              "<Figure size 432x288 with 1 Axes>"
            ],
            "image/png": "[encoded data removed]"
          },
          "metadata": {
            "needs_background": "light"
          }
        }
      ]
    },
    {
      "cell_type": "markdown",
      "source": [
        "Predict the labelled data by passing the X_test data into the target function and check the performance of the model by using MAE,MSE,RMSE and R2_Score."
      ],
      "metadata": {
        "id": "G6IMlov6yXI5"
      }
    },
    {
      "cell_type": "code",
      "source": [
        "#prediction on testing data\n",
        "from sklearn.metrics import mean_absolute_error,r2_score,mean_squared_error\n",
        "y_pred1 = reg.predict(X_test)\n",
        "print('Performance of the model on the test data')\n",
        "print('MAE = ',mean_absolute_error(y_test,y_pred1))\n",
        "print('MSE = ',mean_squared_error(y_test,y_pred1))\n",
        "print('RMSE = ',np.sqrt(mean_squared_error(y_test,y_pred1)))\n",
        "print('R2 = ',r2_score(y_test,y_pred1))"
      ],
      "metadata": {
        "colab": {
          "base_uri": "https://localhost:8080/"
        },
        "id": "IOfgP99w5L0t",
        "outputId": "32fe122f-d9d0-4f8c-cba7-083c6180d7b2"
      },
      "execution_count": 50,
      "outputs": [
        {
          "output_type": "stream",
          "name": "stdout",
          "text": [
            "Performance of the model on the test data\n",
            "MAE =  1.8651146911099161\n",
            "MSE =  5.513351187165511\n",
            "RMSE =  2.3480526372220685\n",
            "R2 =  0.7971876919875108\n"
          ]
        }
      ]
    },
    {
      "cell_type": "markdown",
      "source": [
        "Plot the best fit line by taking X_test on x-axis and y_pred on y-axis."
      ],
      "metadata": {
        "id": "GQPphOUIyfg6"
      }
    },
    {
      "cell_type": "code",
      "source": [
        "plt.scatter(X_test,y_test,color='purple')\n",
        "plt.plot(X_test,y_pred1,linewidth=2,color='black')\n",
        "plt.show()"
      ],
      "metadata": {
        "colab": {
          "base_uri": "https://localhost:8080/",
          "height": 265
        },
        "id": "ZD9_B5xl5jTr",
        "outputId": "c5200306-c7b9-4efd-d3be-8756ecce92c0"
      },
      "execution_count": 45,
      "outputs": [
        {
          "output_type": "display_data",
          "data": {
            "text/plain": [
              "<Figure size 432x288 with 1 Axes>"
            ],
            "image/png": "[encoded data removed]"
          },
          "metadata": {
            "needs_background": "light"
          }
        }
      ]
    }
  ]
}